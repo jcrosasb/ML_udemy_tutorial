{
 "cells": [
  {
   "cell_type": "markdown",
   "metadata": {},
   "source": [
    "## 1. What is the mathematical definition of the cost function used in the K-means algorithm? How is it minimized during the clustering process?\n"
   ]
  },
  {
   "cell_type": "markdown",
   "metadata": {},
   "source": [
    "* We select at random $k$ centroids $\\mu_i$. \n",
    "* For every data point, we calculate the distance to these centroids, and assign them to the centroid to which its distance is the smallest. \n",
    "* Once all data points have been assigned to a centroid (we have created a potential cluster), we calculate distance for each point within a cluster to its centroid:\n",
    "$$\n",
    "J = \\sum_{i=1}^{k}\\sum_{j=1}^{m}||x_j - \\mu_i||^2\n",
    "$$\n",
    "* This squared distance is our ***cost function***. We minimize it by:\n",
    "$$\n",
    "\\frac{\\partial J}{\\partial \\mu_i}=0\n",
    "$$\n",
    "If we work out the math (check: https://medium.com/mathematics-behind-optimization-of-cost-function/k-means-clustering-optimizing-cost-function-mathematically-1ccae156299f), we will find that $J$ is minimized when:\n",
    "$$\n",
    "\\mu_i=\\frac{\\sum_{j}x_j}{n_i}\n",
    "$$\n",
    "and so the ***mean*** of data points of a given cluster minimizes the cost function."
   ]
  },
  {
   "cell_type": "markdown",
   "metadata": {},
   "source": []
  },
  {
   "cell_type": "markdown",
   "metadata": {},
   "source": [
    "## 3. What are the key parameters that need to be tuned when using the K-means algorithm and how do they impact the outcome of the clustering?"
   ]
  },
  {
   "cell_type": "markdown",
   "metadata": {},
   "source": [
    "For a complete description, check here: https://scikit-learn.org/stable/modules/generated/sklearn.cluster.KMeans.html\n",
    "\n",
    "Perhaps the most important parameter is the number of clusters $k$. Also important is how we select the random position of the centroids for each of the clusters. By default, in scikit we use `k-means++`. For this, we randomly select our first centroid and use the largest squared distance to chose the next centroid."
   ]
  },
  {
   "cell_type": "markdown",
   "metadata": {},
   "source": [
    "## 4. How does the initial selection of centroids affect the results of the K-means clustering? What strategies can be used to choose better initial centroids?\n",
    "\n",
    "Because the centroid locations are chose at random, we can end up having a different result even if the number of clusters $k$ is the same. A common startegy to dela with this is using the `k-means++` algorithm, explained above."
   ]
  },
  {
   "cell_type": "markdown",
   "metadata": {},
   "source": [
    "## 5. What are the limitations of using Euclidean distance as a metric in K-means? Can other distance measures be used? If so, give examples.\n"
   ]
  },
  {
   "cell_type": "markdown",
   "metadata": {},
   "source": [
    "Eucliden distance is very sensity to the scale of the features. It also has problems when dealing with higher dimensions because (investigate Curse of Dimensionality).\n",
    "\n",
    "Aparte from Eucliden distance, you may use:\n",
    "\n",
    "* Manhattan distance\n",
    "* Minkowski Distance\n",
    "* Cosine Similarity"
   ]
  },
  {
   "cell_type": "markdown",
   "metadata": {},
   "source": [
    "## 6. In the context of the K-means algorithm, what is meant by convergence? What are the conditions under which K-means might fail to converge?"
   ]
  },
  {
   "cell_type": "markdown",
   "metadata": {},
   "source": [
    "Convergence refers to the stabilization of the position of the centroid of each cluster. It may fail to converge in the presence of outliers, data with noise, clsuters with varying density"
   ]
  },
  {
   "cell_type": "markdown",
   "metadata": {},
   "source": [
    "## 7. Explain how the dimensionality of the input data affects the performance of the K-means algorithm. What are the challenges with high-dimensional data?"
   ]
  },
  {
   "cell_type": "markdown",
   "metadata": {},
   "source": [
    "* We repeat the previous steps until the centroid does not move anymore.\n",
    "* Once the centroid does not move, we calculate:\n",
    "$$\n",
    "WCSS = \\sum_{i=1}^{k} \\sum_{x \\in C_i} ||x - \\mu_i||^2\n",
    "$$\n",
    "* Then we assign a new number of clusters, and repeat the steps above. The idea is to minimize $WCSS$"
   ]
  },
  {
   "cell_type": "markdown",
   "metadata": {},
   "source": []
  }
 ],
 "metadata": {
  "language_info": {
   "name": "python"
  }
 },
 "nbformat": 4,
 "nbformat_minor": 2
}
