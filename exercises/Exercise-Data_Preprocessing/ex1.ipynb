{
 "cells": [
  {
   "cell_type": "code",
   "execution_count": 1,
   "metadata": {},
   "outputs": [],
   "source": [
    "import numpy as np\n",
    "import pandas as pd\n",
    "from sklearn.pipeline import Pipeline\n",
    "from sklearn.impute import SimpleImputer\n",
    "from sklearn.preprocessing import StandardScaler"
   ]
  },
  {
   "cell_type": "code",
   "execution_count": 2,
   "metadata": {},
   "outputs": [],
   "source": [
    "dataset = pd.read_csv('data/data_pp.csv')\n",
    "X = dataset.iloc[:, 2:].values  # Select from thris column up to the last\n",
    "y = dataset.iloc[:, :2].values  # First two columns"
   ]
  },
  {
   "cell_type": "code",
   "execution_count": 3,
   "metadata": {},
   "outputs": [
    {
     "name": "stdout",
     "output_type": "stream",
     "text": [
      "[[27.872710405548844 124.98351218645269 0.4618541963794831 ...\n",
      "  30.075373798033223 4321 203.0184610662248]\n",
      " [nan 137.3373386256297 0.3037686479401003 ... 68.3993758012007 4767\n",
      "  233.4733991926776]\n",
      " [37.090947864043606 128.13333903281665 3.02095975371832 ...\n",
      "  51.41266407787138 4108 238.01274317919143]\n",
      " ...\n",
      " [nan 146.16370431767746 2.648334581647576 ... 68.55456570622376 3923\n",
      "  226.451827164522]\n",
      " [33.659231870841296 131.864282340722 4.837841409909698 ...\n",
      "  30.175734066399794 3770 205.22468437456345]\n",
      " [25.021580480586906 147.591927348333 4.523459040228517 ...\n",
      "  69.60973036005997 4976 224.23711033724547]]\n"
     ]
    }
   ],
   "source": [
    "print(X)"
   ]
  },
  {
   "cell_type": "code",
   "execution_count": 4,
   "metadata": {},
   "outputs": [],
   "source": [
    "imputer = SimpleImputer(missing_values=np.nan, strategy='mean')"
   ]
  },
  {
   "cell_type": "code",
   "execution_count": null,
   "metadata": {},
   "outputs": [],
   "source": []
  }
 ],
 "metadata": {
  "kernelspec": {
   "display_name": "ML_udemy_tutorial",
   "language": "python",
   "name": "python3"
  },
  "language_info": {
   "codemirror_mode": {
    "name": "ipython",
    "version": 3
   },
   "file_extension": ".py",
   "mimetype": "text/x-python",
   "name": "python",
   "nbconvert_exporter": "python",
   "pygments_lexer": "ipython3",
   "version": "3.12.2"
  }
 },
 "nbformat": 4,
 "nbformat_minor": 2
}
